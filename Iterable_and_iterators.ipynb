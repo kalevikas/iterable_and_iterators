{
 "cells": [
  {
   "cell_type": "code",
   "execution_count": null,
   "id": "e8ea49db",
   "metadata": {},
   "outputs": [],
   "source": [
    "Sample Input\n",
    "\n",
    "4 \n",
    "a a c d\n",
    "2\n",
    "Sample Output\n",
    "\n",
    "0.8333"
   ]
  },
  {
   "cell_type": "code",
   "execution_count": 1,
   "id": "f5d934bf",
   "metadata": {},
   "outputs": [],
   "source": [
    "from itertools import combinations"
   ]
  },
  {
   "cell_type": "code",
   "execution_count": 3,
   "id": "04c5b1e3",
   "metadata": {},
   "outputs": [
    {
     "name": "stdout",
     "output_type": "stream",
     "text": [
      "4\n",
      "a a c d\n",
      "2\n",
      "<itertools.combinations object at 0x000001FA118F4EF0>\n"
     ]
    }
   ],
   "source": [
    "n=int(input())\n",
    "n1=list(input().split())\n",
    "k=int(input())\n",
    "\n",
    "print(combinations(n1,k))"
   ]
  },
  {
   "cell_type": "code",
   "execution_count": 4,
   "id": "ab29ef5d",
   "metadata": {},
   "outputs": [
    {
     "name": "stdout",
     "output_type": "stream",
     "text": [
      "4\n",
      "a a c d\n",
      "2\n",
      "[('a', 'a'), ('a', 'c'), ('a', 'd'), ('a', 'c'), ('a', 'd'), ('c', 'd')]\n"
     ]
    }
   ],
   "source": [
    "n=int(input())\n",
    "n1=list(input().split())\n",
    "k=int(input())\n",
    "\n",
    "print(list(combinations(n1,k)))"
   ]
  },
  {
   "cell_type": "code",
   "execution_count": 6,
   "id": "53fcfdda",
   "metadata": {},
   "outputs": [
    {
     "name": "stdout",
     "output_type": "stream",
     "text": [
      "5\n"
     ]
    }
   ],
   "source": [
    "count=0\n",
    "for i in list(combinations(n1,k)):\n",
    "    if 'a' in i:\n",
    "        count+=1\n",
    "print(count)"
   ]
  },
  {
   "cell_type": "code",
   "execution_count": 7,
   "id": "e9b02023",
   "metadata": {},
   "outputs": [
    {
     "name": "stdout",
     "output_type": "stream",
     "text": [
      "0.8333333333333334\n"
     ]
    }
   ],
   "source": [
    "print(count/len(list(combinations(n1,k))))"
   ]
  },
  {
   "cell_type": "code",
   "execution_count": 8,
   "id": "38a3efc1",
   "metadata": {},
   "outputs": [
    {
     "data": {
      "text/plain": [
       "0.8333333333333334"
      ]
     },
     "execution_count": 8,
     "metadata": {},
     "output_type": "execute_result"
    }
   ],
   "source": [
    "5/6"
   ]
  },
  {
   "cell_type": "code",
   "execution_count": 10,
   "id": "80c6a1f8",
   "metadata": {},
   "outputs": [
    {
     "name": "stdout",
     "output_type": "stream",
     "text": [
      "4\n",
      "a a c d\n",
      "2\n",
      "0.8333\n"
     ]
    }
   ],
   "source": [
    "from itertools import combinations\n",
    "\n",
    "N = int(input())\n",
    "L = input().split()\n",
    "K = int(input())\n",
    "\n",
    "C = list(combinations(L, K))\n",
    "F = filter(lambda c: 'a' in c, C)\n",
    "print(\"{0:.4}\".format(len(list(F))/len(C)))"
   ]
  },
  {
   "cell_type": "code",
   "execution_count": null,
   "id": "6317178c",
   "metadata": {},
   "outputs": [],
   "source": []
  }
 ],
 "metadata": {
  "kernelspec": {
   "display_name": "Python 3",
   "language": "python",
   "name": "python3"
  },
  "language_info": {
   "codemirror_mode": {
    "name": "ipython",
    "version": 3
   },
   "file_extension": ".py",
   "mimetype": "text/x-python",
   "name": "python",
   "nbconvert_exporter": "python",
   "pygments_lexer": "ipython3",
   "version": "3.8.8"
  }
 },
 "nbformat": 4,
 "nbformat_minor": 5
}
